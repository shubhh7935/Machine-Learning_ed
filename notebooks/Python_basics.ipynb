{
 "cells": [
  {
   "cell_type": "markdown",
   "id": "f9f85b48",
   "metadata": {},
   "source": [
    "# Python Indentation\n",
    "Python uses indentation to indicate a block of code.\n",
    "You have to use the same number of spaces in the same block of code"
   ]
  },
  {
   "cell_type": "code",
   "execution_count": 1,
   "id": "6152c3e8",
   "metadata": {},
   "outputs": [
    {
     "name": "stdout",
     "output_type": "stream",
     "text": [
      "Five is greater than two!\n"
     ]
    }
   ],
   "source": [
    "if 5 > 2:\n",
    "  print(\"Five is greater than two!\")"
   ]
  },
  {
   "cell_type": "markdown",
   "id": "29bdb4c8",
   "metadata": {},
   "source": [
    "# Python Variables\n",
    "Variables are created when we assign value to it. Python has no command to declare variables.\n",
    "They need not be declared with any particular type, can can change type after they have been set.\n",
    "\n",
    "## Casting\n",
    "We can also specify data type of varibles if we want to.\n",
    "## type of variable\n",
    "To get the type of variable, we use type() function\n",
    "## Variable Names\n",
    "- are case sensitive\n",
    "- cannot start with a number\n",
    "- only alpha-numeric and underscores\n",
    "- cannot be a python keyword\n",
    "## Assigning multiple values to multiple variables\n",
    "x,y,z = 1,2,3\n",
    "note: number of variables should match the number of values, otherwise error\n",
    "\n",
    "## If we have a collection of values in a list,tuple,etc. We can extract the values into variables. This is called Unpacking.\n",
    "## print() function \n",
    "print() is used for output variables. We can output multiple varibles, separated by commas, or even + in case of concatenation. We cannot combine a string and integer with the + operator."
   ]
  },
  {
   "cell_type": "code",
   "execution_count": 11,
   "id": "fdb46720",
   "metadata": {},
   "outputs": [
    {
     "name": "stdout",
     "output_type": "stream",
     "text": [
      "3 Shubham\n",
      "Shub\n",
      "<class 'int'>\n",
      "Apple\n",
      "Banana\n",
      "orange\n"
     ]
    }
   ],
   "source": [
    "x = 3 #Integer x\n",
    "y = \"Shubham\"\n",
    "print(x,y)\n",
    "\n",
    "x = \"Shub\" #String x\n",
    "print(x)\n",
    "\n",
    "#Casting\n",
    "x = str(3) # x is '3'\n",
    "y = int(3) # y is 3\n",
    "z = float(3) # z is 3.0\n",
    "\n",
    "#type() function\n",
    "print(type(y))\n",
    "\n",
    "#Unpacking\n",
    "fruits = [\"Apple\",\"Banana\",\"orange\"]\n",
    "a,b,c = fruits\n",
    "print(a)\n",
    "print(b)\n",
    "print(c)"
   ]
  },
  {
   "cell_type": "markdown",
   "id": "b21cec8c",
   "metadata": {},
   "source": [
    "## Global Variables\n",
    "They are created outside a function, they can be used both inside the function and outside.\n",
    "Note: If you create a variable with the same name inside a function, this variable will be local, and can only be used inside the function. The global variable with the same name will remain as it was, global and with the original value."
   ]
  },
  {
   "cell_type": "code",
   "execution_count": 10,
   "id": "1babfbe9",
   "metadata": {},
   "outputs": [
    {
     "name": "stdout",
     "output_type": "stream",
     "text": [
      "This is local x\n",
      "This is global x\n"
     ]
    }
   ],
   "source": [
    "#Global Variables\n",
    "x = \"global x\" \n",
    "\n",
    "def myfunc():\n",
    "  x = \"local x\"\n",
    "  print(\"This is \" + x)\n",
    "\n",
    "myfunc()\n",
    "\n",
    "print(\"This is \" + x)"
   ]
  },
  {
   "cell_type": "markdown",
   "id": "f1dd1103",
   "metadata": {},
   "source": [
    "## global keyword\n",
    "To create a global variable inside a function, we can use the global keyword"
   ]
  },
  {
   "cell_type": "code",
   "execution_count": null,
   "id": "f8e04e57",
   "metadata": {},
   "outputs": [],
   "source": [
    "def myfunc():\n",
    "  global x\n",
    "  x = \"x is defined globally inside a function\"\n",
    "\n",
    "myfunc()\n",
    "\n",
    "print(x)"
   ]
  },
  {
   "cell_type": "markdown",
   "id": "ca39d3f6",
   "metadata": {},
   "source": [
    "# Python Comments\n",
    "Comments are used to explain code, make the code more readable, or to prevent lines of code from executing when debugging.\n",
    "A comment start with a # and python ignores the rest of the line. \n"
   ]
  },
  {
   "cell_type": "code",
   "execution_count": null,
   "id": "a02db47b",
   "metadata": {},
   "outputs": [],
   "source": [
    "#this is a comment\n",
    "print(\"hello world\") #this is also a comment\n",
    "'''\n",
    "we can also write comment in multiline\n",
    "using triple quotes.\n",
    "'''"
   ]
  },
  {
   "cell_type": "markdown",
   "id": "02458ccd",
   "metadata": {
    "vscode": {
     "languageId": "markdown"
    }
   },
   "source": [
    "# Python Data Types\n",
    "## Python Built-in Data Types\n",
    "\n",
    "| Data Type    | Example                | Description                        |\n",
    "|--------------|------------------------|------------------------------------|\n",
    "| int          | 5, -3, 0               | Integer numbers                    |\n",
    "| float        | 3.14, -0.001, 2.0      | Floating point numbers             |\n",
    "| complex      | 1+2j, 3-4j             | Complex numbers                    |\n",
    "| str          | \"hello\", 'Python'      | String (text)                      |\n",
    "| bool         | True, False            | Boolean values                     |\n",
    "| list         | [1, 2, 3], ['a', 'b']  | Ordered, mutable collection        |\n",
    "| tuple        | (1, 2), ('a', 'b')     | Ordered, immutable collection      |\n",
    "| range        | range(5), range(1,10)  | Sequence of numbers                |\n",
    "| dict         | {'a': 1, 'b': 2}       | Key-value pairs (dictionary)       |\n",
    "| set          | {1, 2, 3}              | Unordered, unique items            |\n",
    "| frozenset    | frozenset([1, 2, 3])   | Immutable set                      |\n",
    "| bytes        | b'abc', bytes(5)       | Immutable bytes                    |\n",
    "| bytearray    | bytearray(5)           | Mutable bytes                      |\n",
    "| memoryview   | memoryview(b'abc')     | Memory view object                 |\n",
    "| NoneType     | None                   | Represents the absence of a value  |"
   ]
  },
  {
   "cell_type": "markdown",
   "id": "4f930277",
   "metadata": {},
   "source": [
    "# Python Strings\n"
   ]
  },
  {
   "cell_type": "code",
   "execution_count": null,
   "id": "22cfd3ad",
   "metadata": {
    "vscode": {
     "languageId": "markdown"
    }
   },
   "outputs": [],
   "source": [
    "# Python Strings: Quick Revision\n",
    "\n",
    "- **Definition**: Strings are sequences of Unicode characters.\n",
    "  ```python\n",
    "  s = \"Hello, World!\"\n",
    "  ```\n",
    "- **Immutability**: Strings cannot be changed after creation.\n",
    "  ```python\n",
    "  # s[0] = 'h'  # Error!\n",
    "  ```\n",
    "- **Indexing & Slicing**:\n",
    "  ```python\n",
    "  s[0]      # 'H'\n",
    "  s[-1]     # '!'\n",
    "  s[0:5]    # 'Hello'\n",
    "  ```\n",
    "- **Concatenation & Repetition**:\n",
    "  ```python\n",
    "  a + b     # 'AppleBanana'\n",
    "  a * 2     # 'AppleApple'\n",
    "  ```\n",
    "- **Escape Characters**:\n",
    "  ```python\n",
    "  s = \"Line1\\nLine2\"\n",
    "  ```\n",
    "- **String Methods**:\n",
    "  ```python\n",
    "  a.upper()         # 'APPLE'\n",
    "  b.lower()         # 'banana'\n",
    "  c.capitalize()    # 'Orange'\n",
    "  a.replace('A', 'a')  # 'apple'\n",
    "  ', '.join(fruits)    # 'Apple, Banana, orange'\n",
    "  b.startswith('Ba')   # True\n",
    "  c.endswith('e')      # True\n",
    "  ```\n",
    "- **Formatting**:\n",
    "  ```python\n",
    "  name = \"Sam\"\n",
    "  f\"Hello {name}\"           # 'Hello Sam'\n",
    "  \"Hello {}\".format(name)   # 'Hello Sam'\n",
    "  \"Hello %s\" % name         # 'Hello Sam'\n",
    "  ```\n",
    "- **Membership**:\n",
    "  ```python\n",
    "  'a' in a      # True\n",
    "  'z' not in b  # True\n",
    "  ```\n",
    "- **Length**:\n",
    "  ```python\n",
    "  len(a)        # 5\n",
    "  ```\n",
    "- **Iteration**:\n",
    "  ```python\n",
    "  for char in c:\n",
    "      print(char)\n",
    "  ```\n",
    "- **Common Use Cases**:\n",
    "  ```python\n",
    "  s = \"apple,banana,orange\"\n",
    "  s.split(',')         # ['apple', 'banana', 'orange']\n",
    "  \"-\".join(fruits)     # 'Apple-Banana-orange'\n",
    "  s.find('banana')     # 6\n",
    "  s.count('a')         # 4\n",
    "  ```"
   ]
  }
 ],
 "metadata": {
  "kernelspec": {
   "display_name": "Python 3",
   "language": "python",
   "name": "python3"
  },
  "language_info": {
   "codemirror_mode": {
    "name": "ipython",
    "version": 3
   },
   "file_extension": ".py",
   "mimetype": "text/x-python",
   "name": "python",
   "nbconvert_exporter": "python",
   "pygments_lexer": "ipython3",
   "version": "3.13.3"
  }
 },
 "nbformat": 4,
 "nbformat_minor": 5
}
